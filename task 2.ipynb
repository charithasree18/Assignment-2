{
 "cells": [
  {
   "cell_type": "code",
   "execution_count": null,
   "id": "15c6091a-4de5-4dc5-9503-2bc67d832f02",
   "metadata": {},
   "outputs": [],
   "source": []
  }
 ],
 "metadata": {
  "kernelspec": {
   "display_name": "",
   "name": ""
  },
  "language_info": {
   "name": ""
  }
 },
 "nbformat": 4,
 "nbformat_minor": 5
}
