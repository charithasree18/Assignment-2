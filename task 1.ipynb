{
 "cells": [
  {
   "cell_type": "code",
   "execution_count": 2,
   "id": "01adc92c-a9d6-47be-bb7e-626755ad9041",
   "metadata": {},
   "outputs": [
    {
     "name": "stdin",
     "output_type": "stream",
     "text": [
      "Enter an integer:  2\n"
     ]
    },
    {
     "name": "stdout",
     "output_type": "stream",
     "text": [
      "The number 2 is even.\n"
     ]
    }
   ],
   "source": [
    "# Task 1: Check if a Number is Even or Odd\n",
    "\n",
    "# Step 1: Take integer input from the user\n",
    "number = int(input(\"Enter an integer: \"))\n",
    "\n",
    "# Step 2: Check whether the number is even or odd\n",
    "if number % 2 == 0:\n",
    "    result = \"even\"\n",
    "else:\n",
    "    result = \"odd\"\n",
    "\n",
    "# Step 3: Display the result\n",
    "print(f\"The number {number} is {result}.\")"
   ]
  },
  {
   "cell_type": "code",
   "execution_count": 4,
   "id": "b0b6ccdc-845a-45c1-96fb-cd6a6562b5c1",
   "metadata": {},
   "outputs": [
    {
     "name": "stdin",
     "output_type": "stream",
     "text": [
      "Enter an integer:  5\n"
     ]
    },
    {
     "name": "stdout",
     "output_type": "stream",
     "text": [
      "The number 5 is odd.\n"
     ]
    }
   ],
   "source": [
    "# Task 1: Check if a Number is Even or Odd\n",
    "\n",
    "# Step 1: Take integer input from the user\n",
    "number = int(input(\"Enter an integer: \"))\n",
    "\n",
    "# Step 2: Check whether the number is even or odd\n",
    "if number % 2 == 0:\n",
    "    result = \"even\"\n",
    "else:\n",
    "    result = \"odd\"\n",
    "\n",
    "# Step 3: Display the result\n",
    "print(f\"The number {number} is {result}.\")"
   ]
  },
  {
   "cell_type": "code",
   "execution_count": null,
   "id": "6ac645ed-d19b-4948-989b-5ffbd6a29f5c",
   "metadata": {},
   "outputs": [],
   "source": []
  }
 ],
 "metadata": {
  "kernelspec": {
   "display_name": "Python [conda env:base] *",
   "language": "python",
   "name": "conda-base-py"
  },
  "language_info": {
   "codemirror_mode": {
    "name": "ipython",
    "version": 3
   },
   "file_extension": ".py",
   "mimetype": "text/x-python",
   "name": "python",
   "nbconvert_exporter": "python",
   "pygments_lexer": "ipython3",
   "version": "3.12.7"
  }
 },
 "nbformat": 4,
 "nbformat_minor": 5
}
